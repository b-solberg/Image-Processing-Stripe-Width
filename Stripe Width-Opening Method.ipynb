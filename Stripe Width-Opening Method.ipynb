{
 "cells": [
  {
   "cell_type": "code",
   "execution_count": 3,
   "metadata": {},
   "outputs": [
    {
     "name": "stdout",
     "output_type": "stream",
     "text": [
      "4.7.0\n",
      "3.4.0\n",
      "3.14.3\n"
     ]
    }
   ],
   "source": [
    "import sys\n",
    "#import packages for python \n",
    "import cv2 \n",
    "import numpy as np\n",
    "import matplotlib.pyplot as plt\n",
    "\n",
    "import pandas as pd\n",
    "\n",
    "import csv\n",
    "\n",
    "import diplib as dip\n",
    "from plantcv import plantcv as pcv #\"pip install plantcv\"   \"https://plantcv.readthedocs.io/en/stable/installation/\"\n",
    "\n",
    "%matplotlib inline\n",
    "print(cv2.__version__)\n",
    "print(dip.__version__)\n",
    "print(pcv.__version__)\n",
    "np.set_printoptions(threshold=sys.maxsize)"
   ]
  },
  {
   "cell_type": "markdown",
   "metadata": {},
   "source": [
    "### Use guide\n",
    "\n",
    "---\n",
    "\n",
    "Use the ```filename``` object to give a file path to images to be analyzed. Input images are assumed to be already thresholded (a binary image) as well as 8bit. Feel free to modify image opening to suit different use cases\n",
    "\n",
    "---\n",
    "\n",
    "Set ```junction_cutoff``` to an appropriate diameter to remove junctions from measurements. This is done since junctions will generally be larger than stripewidth due to diagonal measurements. \n",
    "\n",
    "---\n",
    "\n",
    "Set ```pixel_to_micron``` to adjust for your system (doesn't need to be to microns)\n",
    "\n",
    "---\n",
    "\n",
    "The outputs include a csv file of measurements, and the associated histogram\n",
    "\n",
    "---\n"
   ]
  },
  {
   "cell_type": "code",
   "execution_count": 4,
   "metadata": {},
   "outputs": [
    {
     "name": "stdout",
     "output_type": "stream",
     "text": [
      "Average Width 2.1673252279635253\n",
      "Standard Deviation 0.16405484707648837\n"
     ]
    },
    {
     "data": {
      "image/png": "[encoded data removed]",
      "text/plain": [
       "<Figure size 640x480 with 1 Axes>"
      ]
     },
     "metadata": {},
     "output_type": "display_data"
    }
   ],
   "source": [
    "###\n",
    "filename=\"C:/Users/bjorn/Downloads/Image12826-thresh\"\n",
    "###\n",
    "\n",
    "original = cv2.imread(filename+\".tif\" ,cv2.IMREAD_GRAYSCALE)\n",
    "img=np.pad(original,((20,20),(20,20)),mode='minimum')\n",
    "cv2.imshow('img',img)\n",
    "cv2.waitKey()\n",
    "\n",
    "###\n",
    "pixel_to_micron=4.7 #4.7pi to 1micron\n",
    "###\n",
    "\n",
    "###\n",
    "junction_cutoff=13 ###Change this for each image until it works well!!\n",
    "###\n",
    "\n",
    "contours,heir = cv2.findContours(img,cv2.RETR_TREE,cv2.CHAIN_APPROX_NONE)\n",
    "imemp = np.zeros(img.shape) \n",
    "imcon = cv2.drawContours(imemp,contours,-1,(255))\n",
    "imcon= np.uint8(imcon)\n",
    "center = dip.Image(img) ; center = dip.Opening(center,junction_cutoff) ; center = np.array(center) ; center = np.uint8(center) ; center = cv2.bitwise_not(center) ; img=cv2.bitwise_and(center,img)\n",
    "imemp = np.zeros(img.shape)\n",
    "cv2.imshow('imga',img)\n",
    "cv2.waitKey()\n",
    "cv2.destroyAllWindows()\n",
    "Wid=[]\n",
    "ls=[]\n",
    "\n",
    "for i in range(junction_cutoff,7,-1):\n",
    "    imga = dip.Image(img)\n",
    "    imga = dip.Opening(imga,i) ; imga = np.array(imga) ; imga = np.uint8(imga)\n",
    "    outline = cv2.bitwise_or(imcon.copy(),imga)\n",
    "    im=cv2.resize(imga,(600,600))\n",
    "    cv2.imshow('imga',outline)\n",
    "    cv2.waitKey(10)\n",
    "    \n",
    "    skelt = pcv.morphology.skeletonize(imga) ; skelt  = pcv.morphology.prune(skelt,80) ; skelt = np.uint8(skelt[0])\n",
    "    skelt=np.ndarray.flatten(skelt)\n",
    "    length=np.bincount(skelt)\n",
    "    if len(length) >1:\n",
    "        length=length[255]\n",
    "        wid=[i]*length \n",
    "        Wid=Wid+wid\n",
    "        ls.append(length)\n",
    "        \n",
    "    img=cv2.bitwise_xor(img,imga)\n",
    "pixel_to_micron=4.7 #4.7pi to 1micron\n",
    "WID=np.array(Wid)/pixel_to_micron\n",
    "stdev=np.std(WID)\n",
    "Width=np.sum(WID)/sum(ls)\n",
    "print('Average Width',Width)\n",
    "print('Standard Deviation',stdev)\n",
    "Avgwid=[Width]+([0]*(sum(ls)-1)) ; STDev=[stdev]+([0]*(sum(ls)-1))\n",
    "WIDTH=pd.DataFrame({'Average Width':Avgwid,'Standard Deviation':STDev,'Widths':WID})\n",
    "WIDTH.to_csv(filename+\"Width.csv\",sep=',')  #Save CSV\n",
    "plt.hist(WID,density=True)\n",
    "plt.yticks(fontsize=15)\n",
    "plt.title(\"Stripe Width Distribution\",fontsize=17)\n",
    "plt.xlabel(f\"Stripe Width ($\\mu m$)\",fontsize=15)\n",
    "plt.xticks(fontsize=15)\n",
    "plt.savefig(filename+\"Hist.png\",dpi=250, bbox_inches = \"tight\")\n",
    "cv2.destroyAllWindows()"
   ]
  },
  {
   "cell_type": "code",
   "execution_count": null,
   "metadata": {},
   "outputs": [],
   "source": []
  }
 ],
 "metadata": {
  "kernelspec": {
   "display_name": "Python 3 (ipykernel)",
   "language": "python",
   "name": "python3"
  },
  "language_info": {
   "codemirror_mode": {
    "name": "ipython",
    "version": 3
   },
   "file_extension": ".py",
   "mimetype": "text/x-python",
   "name": "python",
   "nbconvert_exporter": "python",
   "pygments_lexer": "ipython3",
   "version": "3.10.9"
  }
 },
 "nbformat": 4,
 "nbformat_minor": 2
}
